{
 "cells": [
  {
   "cell_type": "markdown",
   "metadata": {},
   "source": [
    "# RNN Tutorial\n",
    "\n",
    "## General applications\n",
    "\n",
    "Natural language processing concerns with the interaction between computer and human natural language. Among different applications, there are:\n",
    " * Translation\n",
    " * Sentiment analysis (e.g. comments on products)\n",
    " * Document categorization (e.g. spam filtering, language identification, news categorization)\n",
    " * Automatic evaluation (e.g. answers to open questions)\n",
    " * Automatic summarization (e.g. explore large collection of documents)\n",
    " * Paraphasing detection (e.g. trend topic analysis on twitter)\n",
    " * Grammar parsing \n",
    " * etc,\n",
    " \n",
    "Standard machine learning approaches can receive directly a set of fixed-length features with numerical or categorical data. However, to deal with sequences such as words or sound, a preprocessing step is usually required (Images adapted from [indico's tutorial](https://indico.io/blog/general-sequence-learning-using-recurrent-neural-nets/)).\n",
    "![How text is dealt](http://i.imgur.com/0aDV3fC.png)\n",
    "However structure is important!:\n",
    "![Structure is important](http://i.imgur.com/xaBWxI2.png)\n",
    "##Language Modeling\n",
    "A language model computes the probability of a sequence of words. The main idea is to learn a model that computes higher probabilities to more likely sequences of words, e.g.:\n",
    "$$P(the\\ cat\\ is\\ small) \\geq  P(small\\ the\\ is\\ cat)$$\n",
    "$$P(walking\\ home\\ after\\ work) \\geq  P(walking\\ house\\ after\\ work)$$\n",
    "\n",
    "In order to get a model like that one can use contextual information of what words are ocurring in similar contexts <img src=\"http://i.imgur.com/j6ryjWW.png\" alt=\"Distributed Space\" height=\"500\" width=\"500\">\n",
    "Above we can see the different contexts in which the word stars is likely to occur. For instance words like constellations and moon are present in the same context of *stars*.\n",
    "\n",
    "Bag of words representation can be extended to deal with sequences through inclusion of bi-grams or n-grams and huge tables of co-occurrence statistics. However, this approach is limited to the number of combinations we can deal with.\n",
    "\n",
    "# Quick review of recurrent neural networks\n",
    "![RNN approach](http://i.imgur.com/6siwjNl.png)\n",
    "RNN models sequences through recurrent connections in the hidden units of the network as depicted above. This structure can be shown in its unfolded version:\n",
    "![RNN approach](http://i.imgur.com/3qvKyoP.png)\n",
    "\n",
    "Recurrent neural networks (RNNs) are a quite popular option to learn a language model and the distributed representation of words. Since they are good at modelling sequences. Theoretically they can condition the model on all previous word on the corpus. The following is the classical architecture of a RNN: <img src=\"http://i.imgur.com/uGNd1LZ.png\">\n",
    "\n",
    "RNNs are also attractive because they are capable of handling an input of arbitrary size. Concretely they have three layers: an input, a hidden and an output layer. Interestingly RNNs combine the input vector with the state vector(hidden layer) using a learned function, then they produce a new state vector and therefore an output vector. Essentially RNNs receive a sequence of vectors as input and produce an output sequence of vectors. **An output produced by a RNN is influenced not only by its current input, but by all the past inputs the RNN has been fed**\n",
    "\n",
    "### A more expressive recurrent unit: Gated Recurrent\n",
    "To overcome issues related to the training process (Vanishing and exploding gradient), hidden units with gates has been proposed. In particular, we will use the Gated Recurrent Unit ([Cho et al.](http://arxiv.org/abs/1409.1259)):\n",
    "\n",
    "<img src=\"gru.png\"/>\n",
    "\n",
    "In summary, $r$ and $z$ works as \"Gates\" that controls the information flow. $r$ (reset gate) allows or denies to use previous states ($h_(t-1)$) to compute the current state ($h_t$). $z$ (update gate) controls whether $h_t$ is updated.\n",
    "<img src=\"http://img.blog.csdn.net/20150830152611813\"/>\n",
    "\n",
    "#Our practical excercise\n",
    "\n",
    "One can use the learned model to predict the next token iterativelly, so that applying a stochastic process our neural network generates sequences!. We follow architecture tested on [Andrej's blog](http://karpathy.github.io/2015/05/21/rnn-effectiveness/) to learn with a set of different text documents. \n",
    "<img src=\"http://karpathy.github.io/assets/rnn/charseq.jpeg\" height=\"500\" width=\"500\">\n",
    "\n",
    "This section helps to build a RNN model using Theano and Blocks frameworks. It requires two python files which include utils function like ploting and monitoring.\n",
    "\n",
    "## Architecture\n",
    "This is the neural network architecture for our char-based NLM:\n",
    "<img src=\"https://raw.githubusercontent.com/fagonzalezo/nn_nlp_tutorial/gh-pages/rnn_architecture.jpg\" width= 400>\n",
    "\n",
    "## Preparing the environment\n",
    "First, we import the required libraries"
   ]
  },
  {
   "cell_type": "code",
   "execution_count": 1,
   "metadata": {
    "collapsed": false
   },
   "outputs": [
    {
     "name": "stderr",
     "output_type": "stream",
     "text": [
      "Using gpu device 0: Graphics Device (CNMeM is disabled)\n"
     ]
    }
   ],
   "source": [
    "import numpy\n",
    "import codecs\n",
    "from fuel.datasets import IndexableDataset\n",
    "from fuel.streams import DataStream\n",
    "from fuel.transformers import Mapping\n",
    "from fuel.schemes import ShuffledScheme\n",
    "from collections import OrderedDict"
   ]
  },
  {
   "cell_type": "markdown",
   "metadata": {},
   "source": [
    "Then, set the seed to get reproducible results"
   ]
  },
  {
   "cell_type": "code",
   "execution_count": 2,
   "metadata": {
    "collapsed": true
   },
   "outputs": [],
   "source": [
    "numpy.random.seed(0)"
   ]
  },
  {
   "cell_type": "markdown",
   "metadata": {},
   "source": [
    "and define parameters of the model"
   ]
  },
  {
   "cell_type": "code",
   "execution_count": 3,
   "metadata": {
    "collapsed": false
   },
   "outputs": [],
   "source": [
    "seq_length = 50 # number of chars in the sequence\n",
    "embedding_size = 128 # number of hidden units per layer\n",
    "learning_rate = 0.002\n",
    "nepochs = 10 # number of full passes through the training data\n",
    "batch_size = 50 # number of samples taken per each update\n",
    "decay_rate = 0.95 # decay rate for rmsprop\n",
    "step_clipping = 0.5 # clip gradients at this value\n",
    "\n",
    "model_name = 'shakespeare'\n",
    "url_bokeh = 'http://localhost:5006/' # url to online plot training progress\n",
    "text_file = 'input.txt' # input file\n",
    "train_size = 0.95 # fraction of data that goes into train set\n",
    "save_path = 'best_model.pkl' # name to export model file"
   ]
  },
  {
   "cell_type": "markdown",
   "metadata": {},
   "source": [
    "## Building the dataset\n",
    "Load text file"
   ]
  },
  {
   "cell_type": "code",
   "execution_count": 4,
   "metadata": {
    "collapsed": false
   },
   "outputs": [
    {
     "name": "stdout",
     "output_type": "stream",
     "text": [
      "Second Citizen:\n",
      "Would you proceed especially against Caius Marcius?\n",
      "\n",
      "All:\n",
      "Against him first: he's a very dog to the commonalty.\n",
      "\n",
      "Second Citizen:\n",
      "Consider you what services he has done for his country?\n"
     ]
    }
   ],
   "source": [
    "with codecs.open(text_file, 'r', 'utf-8') as f:\n",
    "    data = f.read()\n",
    "print data[1000:1200]"
   ]
  },
  {
   "cell_type": "markdown",
   "metadata": {},
   "source": [
    "Now, we are going to create the vocabulary taking all different characters in the text file and get number of training examples."
   ]
  },
  {
   "cell_type": "code",
   "execution_count": 5,
   "metadata": {
    "collapsed": false
   },
   "outputs": [],
   "source": [
    "if len(data) % seq_length > 0:\n",
    "    data = data[:len(data) - len(data) % seq_length + 1]\n",
    "else:\n",
    "    data = data[:len(data) - seq_length + 1]\n",
    "\n",
    "nsamples = len(data) // seq_length\n",
    "chars = list(set(data))\n",
    "vocab_size = len(chars)\n",
    "char_to_ix = {ch: i for i, ch in enumerate(chars)}\n",
    "ix_to_char = {i: ch for i, ch in enumerate(chars)}"
   ]
  },
  {
   "cell_type": "markdown",
   "metadata": {},
   "source": [
    "We are going to go over the dataset taking chunks of characters and transform them into sequences of integers according to the previous dictionary. `targets` are just sequences moved one character to the right."
   ]
  },
  {
   "cell_type": "code",
   "execution_count": 6,
   "metadata": {
    "collapsed": false
   },
   "outputs": [],
   "source": [
    "features = numpy.empty((nsamples, seq_length), dtype='uint8')\n",
    "targets = numpy.zeros_like(features)\n",
    "for i, p in enumerate(range(0, len(data) - 1, seq_length)):\n",
    "    features[i] = numpy.array([char_to_ix[ch] for ch in data[p:p + seq_length]])\n",
    "    targets[i] = numpy.array([char_to_ix[ch] for ch in data[p + 1:p + seq_length + 1]])"
   ]
  },
  {
   "cell_type": "markdown",
   "metadata": {},
   "source": [
    "Now shuffle and split samples into train and validation sets"
   ]
  },
  {
   "cell_type": "code",
   "execution_count": 7,
   "metadata": {
    "collapsed": false
   },
   "outputs": [],
   "source": [
    "# Build dataset objects\n",
    "nsamples_train = int(nsamples * train_size)\n",
    "train_dataset = IndexableDataset(indexables=OrderedDict(\n",
    "    [('features', features[:nsamples_train]), ('targets', targets[:nsamples_train])]))\n",
    "dev_dataset = IndexableDataset(indexables=OrderedDict(\n",
    "    [('features', features[nsamples_train:]), ('targets', targets[nsamples_train:])]))"
   ]
  },
  {
   "cell_type": "markdown",
   "metadata": {},
   "source": [
    "Finally, we will export build dataset into Fuel streams. To learn more about fuel, check [the docs](http://fuel.readthedocs.org/en/latest/)"
   ]
  },
  {
   "cell_type": "code",
   "execution_count": 8,
   "metadata": {
    "collapsed": false
   },
   "outputs": [],
   "source": [
    "def transpose_stream(data):\n",
    "    return (data[0].T, data[1].T)\n",
    "\n",
    "# Define the way samples are going to be retrieved\n",
    "train_stream = DataStream(dataset=train_dataset, iteration_scheme=ShuffledScheme(\n",
    "    examples=train_dataset.num_examples, batch_size=batch_size))\n",
    "dev_stream = DataStream(dataset=dev_dataset, iteration_scheme=ShuffledScheme(\n",
    "    examples=dev_dataset.num_examples, batch_size=batch_size))\n",
    "\n",
    "# Required because Recurrent bricks receive as input [sequence, batch, features]\n",
    "train_stream = Mapping(train_stream, transpose_stream)\n",
    "dev_stream = Mapping(dev_stream, transpose_stream)"
   ]
  },
  {
   "cell_type": "code",
   "execution_count": 9,
   "metadata": {
    "collapsed": false
   },
   "outputs": [
    {
     "data": {
      "text/plain": [
       "(array([43,  2, 56, 39, 43, 53, 42, 56, 56,  7,  2, 56, 52, 53,  2, 29, 42,\n",
       "        59, 57, 58, 40, 47, 46, 52,  7,  0, 20,  2, 59, 47, 46, 53, 48,  2,\n",
       "        59, 47, 52, 58,  2, 47, 39, 56, 59,  2, 59, 47, 42,  2, 61, 42], dtype=uint8),\n",
       " array([ 2, 56, 39, 43, 53, 42, 56, 56,  7,  2, 56, 52, 53,  2, 29, 42, 59,\n",
       "        57, 58, 40, 47, 46, 52,  7,  0, 20,  2, 59, 47, 46, 53, 48,  2, 59,\n",
       "        47, 52, 58,  2, 47, 39, 56, 59,  2, 59, 47, 42,  2, 61, 42, 57], dtype=uint8))"
      ]
     },
     "execution_count": 9,
     "metadata": {},
     "output_type": "execute_result"
    }
   ],
   "source": [
    "x_vals, y_vals = dev_stream.get_epoch_iterator().next()\n",
    "x_vals[:,0], y_vals[:,0]"
   ]
  },
  {
   "cell_type": "markdown",
   "metadata": {},
   "source": [
    "## Build the model\n",
    "Blocks framework helps us to build and train neural networks in an easy manner. Again, we will import required classes:"
   ]
  },
  {
   "cell_type": "code",
   "execution_count": 10,
   "metadata": {
    "collapsed": true
   },
   "outputs": [],
   "source": [
    "import theano\n",
    "import numpy\n",
    "import sys\n",
    "from theano import tensor\n",
    "from blocks import initialization\n",
    "from blocks import roles\n",
    "from blocks.model import Model\n",
    "from blocks.bricks import Linear, NDimensionalSoftmax\n",
    "from blocks.graph import ComputationGraph\n",
    "from blocks.algorithms import StepClipping, GradientDescent, CompositeRule, RMSProp\n",
    "from blocks.extensions import FinishAfter, Timing, Printing, saveload, predicates\n",
    "from blocks.extensions.monitoring import DataStreamMonitoring, TrainingDataMonitoring\n",
    "from blocks.extensions.training import TrackTheBest\n",
    "from blocks.extras.extensions.plot import Plot\n",
    "from blocks.bricks.parallel import Fork\n",
    "from blocks.bricks.recurrent import GatedRecurrent\n",
    "from blocks.bricks.lookup import LookupTable\n",
    "from blocks.filter import VariableFilter\n",
    "from blocks.main_loop import MainLoop\n"
   ]
  },
  {
   "cell_type": "markdown",
   "metadata": {},
   "source": [
    "Now, using Blocks we are building the RNN architecture. Firstly, we will use 1 lookup table to map from indices of the vocabulary to real N-dimensional vectors"
   ]
  },
  {
   "cell_type": "code",
   "execution_count": 11,
   "metadata": {
    "collapsed": true
   },
   "outputs": [],
   "source": [
    "# MODEL\n",
    "x = tensor.imatrix('features')\n",
    "y = tensor.imatrix('targets')\n",
    "\n",
    "lookup = LookupTable(length=vocab_size, dim=embedding_size)"
   ]
  },
  {
   "cell_type": "markdown",
   "metadata": {},
   "source": [
    "Then, we are adding two RNN layers. In particular we are going to use Gated Recurrent Units ([Cho et al.](http://arxiv.org/abs/1409.1259))"
   ]
  },
  {
   "cell_type": "code",
   "execution_count": 12,
   "metadata": {
    "collapsed": true
   },
   "outputs": [],
   "source": [
    "# Layer 1\n",
    "fork1 = Fork(output_names=['linear1', 'gates1'], name='fork1',\n",
    "             input_dim=embedding_size, output_dims=[embedding_size, embedding_size * 2])\n",
    "grnn1 = GatedRecurrent(dim=embedding_size, name='gru1')\n",
    "\n",
    "# Layer 2\n",
    "fork2 = Fork(output_names=['linear2', 'gates2'], name='fork2',\n",
    "             input_dim=embedding_size, output_dims=[embedding_size, embedding_size * 2])\n",
    "grnn2 = GatedRecurrent(dim=embedding_size, name='gru2')"
   ]
  },
  {
   "cell_type": "markdown",
   "metadata": {},
   "source": [
    "On top of our model we set a Softmax classifier for each predicted character"
   ]
  },
  {
   "cell_type": "code",
   "execution_count": 13,
   "metadata": {
    "collapsed": true
   },
   "outputs": [],
   "source": [
    "# Softmax layer\n",
    "hidden_to_output = Linear(name='hidden_to_output', input_dim=embedding_size,\n",
    "                          output_dim=vocab_size)\n",
    "softmax = NDimensionalSoftmax()"
   ]
  },
  {
   "cell_type": "markdown",
   "metadata": {},
   "source": [
    "With the defined objects, now we are able to build the whole network, performing the forward propagation starting from `x` until `y_hat` prediction"
   ]
  },
  {
   "cell_type": "code",
   "execution_count": 14,
   "metadata": {
    "collapsed": true
   },
   "outputs": [],
   "source": [
    "# Propagate x until top brick to get y_hat predictions\n",
    "embedding = lookup.apply(x)\n",
    "linear1, gates1 = fork1.apply(embedding)\n",
    "h1 = grnn1.apply(linear1, gates1)\n",
    "linear2, gates2 = fork2.apply(h1)\n",
    "h2 = grnn2.apply(linear2, gates2)\n",
    "linear_output = hidden_to_output.apply(h2)\n",
    "linear_output.name = 'linear_output'\n",
    "y_hat = softmax.apply(linear_output, extra_ndim=1)\n",
    "y_hat.name = 'y_hat'"
   ]
  },
  {
   "cell_type": "markdown",
   "metadata": {},
   "source": [
    "Finally we define our cost function as the cross entropy between predictions (`y_hat`) and original targets (`y`)"
   ]
  },
  {
   "cell_type": "code",
   "execution_count": 15,
   "metadata": {
    "collapsed": true
   },
   "outputs": [],
   "source": [
    "# COST\n",
    "cost = softmax.categorical_cross_entropy(y, linear_output, extra_ndim=1).mean()\n",
    "cost.name = 'cost'"
   ]
  },
  {
   "cell_type": "markdown",
   "metadata": {},
   "source": [
    "## Define learning algorithm\n",
    "now, it is required to define initialization strategies for every learnable block. This step allocates variables in GPU memory and sets random values for weights matrices and zeros to biases vectors"
   ]
  },
  {
   "cell_type": "code",
   "execution_count": 16,
   "metadata": {
    "collapsed": true
   },
   "outputs": [],
   "source": [
    "# Set initialization strategies\n",
    "to_init = [lookup, grnn1, fork1, grnn2, fork2, hidden_to_output]\n",
    "for brick in to_init:\n",
    "    brick.weights_init = initialization.Orthogonal()\n",
    "    brick.biases_init = initialization.Constant(0)\n",
    "    brick.initialize()"
   ]
  },
  {
   "cell_type": "markdown",
   "metadata": {},
   "source": [
    "Now we define our algorithm based on the `cost` and the parameters previously defined:"
   ]
  },
  {
   "cell_type": "code",
   "execution_count": 17,
   "metadata": {
    "collapsed": true
   },
   "outputs": [],
   "source": [
    "# Learning algorithm\n",
    "cg = ComputationGraph(cost)\n",
    "step_rules = [RMSProp(learning_rate=learning_rate, decay_rate=decay_rate),\n",
    "              StepClipping(step_clipping)]\n",
    "algorithm = GradientDescent(cost=cost,\n",
    "                            parameters=cg.parameters,\n",
    "                            step_rule=CompositeRule(step_rules))"
   ]
  },
  {
   "cell_type": "markdown",
   "metadata": {},
   "source": [
    "This is the last step. We include some extensions to monitor the training process:"
   ]
  },
  {
   "cell_type": "code",
   "execution_count": 18,
   "metadata": {
    "collapsed": false
   },
   "outputs": [
    {
     "name": "stdout",
     "output_type": "stream",
     "text": [
      "Using saved session configuration for http://localhost:5006/\n",
      "To override, pass 'load_from_config=False' to Session\n"
     ]
    }
   ],
   "source": [
    "# Extensions\n",
    "def track_best(channel, save_path):\n",
    "    tracker = TrackTheBest(channel, choose_best=min)\n",
    "    checkpoint = saveload.Checkpoint(\n",
    "        save_path, after_training=False, use_cpickle=True)\n",
    "    checkpoint.add_condition([\"after_epoch\"],\n",
    "                             predicate=predicates.OnLogRecord('{0}_best_so_far'.format(channel)))\n",
    "    return [tracker, checkpoint]\n",
    "\n",
    "dev_monitor = DataStreamMonitoring(variables=[cost],\n",
    "                                   before_first_epoch=True, after_epoch=True,\n",
    "                                   data_stream=dev_stream, prefix=\"dev\")\n",
    "train_monitor = TrainingDataMonitoring(variables=[cost],\n",
    "                                       before_first_epoch=True,\n",
    "                                       after_batch=True, prefix='tra')\n",
    "\n",
    "extensions = [train_monitor, dev_monitor,\n",
    "    Timing(),\n",
    "    Printing(after_epoch=True),\n",
    "    FinishAfter(after_n_epochs=nepochs),\n",
    "]\n",
    "\n",
    "extensions.extend(track_best('dev_cost', save_path))\n",
    "extensions.append(Plot('jearevaloo_gru_nlm', server_url='http://localhost:5006/',\n",
    "            channels=[['tra_cost','dev_cost']], before_first_epoch=True, after_batch=False, after_n_batches=200))"
   ]
  },
  {
   "cell_type": "markdown",
   "metadata": {},
   "source": [
    "## Train the model\n",
    "Finally build the main loop and train the model"
   ]
  },
  {
   "cell_type": "code",
   "execution_count": 19,
   "metadata": {
    "collapsed": false
   },
   "outputs": [
    {
     "name": "stdout",
     "output_type": "stream",
     "text": [
      "\n",
      "-------------------------------------------------------------------------------\n",
      "BEFORE FIRST EPOCH\n",
      "-------------------------------------------------------------------------------\n",
      "Training status:\n",
      "\t batch_interrupt_received: False\n",
      "\t epoch_interrupt_received: False\n",
      "\t epoch_started: True\n",
      "\t epochs_done: 0\n",
      "\t iterations_done: 0\n",
      "\t received_first_batch: False\n",
      "\t resumed_from: None\n",
      "\t training_started: True\n",
      "Log records from the iteration 0:\n",
      "\t dev_cost: 4.17185163498\n",
      "\t time_initialization: 15.4278581142\n",
      "\t tra_cost: nan\n",
      "\n",
      "\n",
      "-------------------------------------------------------------------------------\n",
      "AFTER ANOTHER EPOCH\n",
      "-------------------------------------------------------------------------------\n",
      "Training status:\n",
      "\t batch_interrupt_received: False\n",
      "\t epoch_interrupt_received: False\n",
      "\t epoch_started: False\n",
      "\t epochs_done: 1\n",
      "\t iterations_done: 424\n",
      "\t received_first_batch: True\n",
      "\t resumed_from: None\n",
      "\t training_started: True\n",
      "Log records from the iteration 424:\n",
      "\t dev_cost: 1.97388708591\n",
      "\t time_read_data_this_epoch: 0.0988669395447\n",
      "\t time_read_data_total: 0.0988669395447\n",
      "\t time_train_this_epoch: 20.5184645653\n",
      "\t time_train_total: 20.5184645653\n",
      "\t tra_cost: 1.92158567905\n",
      "\n",
      "\n",
      "-------------------------------------------------------------------------------\n",
      "AFTER ANOTHER EPOCH\n",
      "-------------------------------------------------------------------------------\n",
      "Training status:\n",
      "\t batch_interrupt_received: False\n",
      "\t best_dev_cost: 1.97388708591\n",
      "\t epoch_interrupt_received: False\n",
      "\t epoch_started: False\n",
      "\t epochs_done: 2\n",
      "\t iterations_done: 848\n",
      "\t received_first_batch: True\n",
      "\t resumed_from: None\n",
      "\t training_started: True\n",
      "Log records from the iteration 848:\n",
      "\t dev_cost: 1.81788241863\n",
      "\t time_read_data_this_epoch: 0.0920050144196\n",
      "\t time_read_data_total: 0.190871953964\n",
      "\t time_train_this_epoch: 20.7516355515\n",
      "\t time_train_total: 41.2701001167\n",
      "\t tra_cost: 1.72186541557\n",
      "\n",
      "\n",
      "-------------------------------------------------------------------------------\n",
      "AFTER ANOTHER EPOCH\n",
      "-------------------------------------------------------------------------------\n",
      "Training status:\n",
      "\t batch_interrupt_received: False\n",
      "\t best_dev_cost: 1.81788241863\n",
      "\t epoch_interrupt_received: False\n",
      "\t epoch_started: False\n",
      "\t epochs_done: 3\n",
      "\t iterations_done: 1272\n",
      "\t received_first_batch: True\n",
      "\t resumed_from: None\n",
      "\t training_started: True\n",
      "Log records from the iteration 1272:\n",
      "\t dev_cost: 1.74512648582\n",
      "\t time_read_data_this_epoch: 0.0777816772461\n",
      "\t time_read_data_total: 0.26865363121\n",
      "\t time_train_this_epoch: 21.0355169773\n",
      "\t time_train_total: 62.305617094\n",
      "\t tra_cost: 1.66603124142\n",
      "\n",
      "\n",
      "-------------------------------------------------------------------------------\n",
      "AFTER ANOTHER EPOCH\n",
      "-------------------------------------------------------------------------------\n",
      "Training status:\n",
      "\t batch_interrupt_received: False\n",
      "\t best_dev_cost: 1.74512648582\n",
      "\t epoch_interrupt_received: False\n",
      "\t epoch_started: False\n",
      "\t epochs_done: 4\n",
      "\t iterations_done: 1696\n",
      "\t received_first_batch: True\n",
      "\t resumed_from: None\n",
      "\t training_started: True\n",
      "Log records from the iteration 1696:\n",
      "\t dev_cost: 1.70059120655\n",
      "\t time_read_data_this_epoch: 0.0868382453918\n",
      "\t time_read_data_total: 0.355491876602\n",
      "\t time_train_this_epoch: 20.6963582039\n",
      "\t time_train_total: 83.0019752979\n",
      "\t tra_cost: 1.57014262676\n",
      "\n",
      "\n",
      "-------------------------------------------------------------------------------\n",
      "AFTER ANOTHER EPOCH\n",
      "-------------------------------------------------------------------------------\n",
      "Training status:\n",
      "\t batch_interrupt_received: False\n",
      "\t best_dev_cost: 1.70059120655\n",
      "\t epoch_interrupt_received: False\n",
      "\t epoch_started: False\n",
      "\t epochs_done: 5\n",
      "\t iterations_done: 2120\n",
      "\t received_first_batch: True\n",
      "\t resumed_from: None\n",
      "\t training_started: True\n",
      "Log records from the iteration 2120:\n",
      "\t dev_cost: 1.67759883404\n",
      "\t time_read_data_this_epoch: 0.0908284187317\n",
      "\t time_read_data_total: 0.446320295334\n",
      "\t time_train_this_epoch: 20.7505295277\n",
      "\t time_train_total: 103.752504826\n",
      "\t tra_cost: 1.47017455101\n",
      "\n",
      "\n",
      "-------------------------------------------------------------------------------\n",
      "AFTER ANOTHER EPOCH\n",
      "-------------------------------------------------------------------------------\n",
      "Training status:\n",
      "\t batch_interrupt_received: False\n",
      "\t best_dev_cost: 1.67759883404\n",
      "\t epoch_interrupt_received: False\n",
      "\t epoch_started: False\n",
      "\t epochs_done: 6\n",
      "\t iterations_done: 2544\n",
      "\t received_first_batch: True\n",
      "\t resumed_from: None\n",
      "\t training_started: True\n",
      "Log records from the iteration 2544:\n",
      "\t dev_cost: 1.65748977661\n",
      "\t time_read_data_this_epoch: 0.0849640369415\n",
      "\t time_read_data_total: 0.531284332275\n",
      "\t time_train_this_epoch: 20.7311899662\n",
      "\t time_train_total: 124.483694792\n",
      "\t tra_cost: 1.454023242\n",
      "\n",
      "\n",
      "-------------------------------------------------------------------------------\n",
      "AFTER ANOTHER EPOCH\n",
      "-------------------------------------------------------------------------------\n",
      "Training status:\n",
      "\t batch_interrupt_received: False\n",
      "\t best_dev_cost: 1.65748977661\n",
      "\t epoch_interrupt_received: False\n",
      "\t epoch_started: False\n",
      "\t epochs_done: 7\n",
      "\t iterations_done: 2968\n",
      "\t received_first_batch: True\n",
      "\t resumed_from: None\n",
      "\t training_started: True\n",
      "Log records from the iteration 2968:\n",
      "\t dev_cost: 1.64356279373\n",
      "\t time_read_data_this_epoch: 0.081976890564\n",
      "\t time_read_data_total: 0.613261222839\n",
      "\t time_train_this_epoch: 20.7699656487\n",
      "\t time_train_total: 145.25366044\n",
      "\t tra_cost: 1.41756081581\n",
      "\n",
      "\n",
      "-------------------------------------------------------------------------------\n",
      "AFTER ANOTHER EPOCH\n",
      "-------------------------------------------------------------------------------\n",
      "Training status:\n",
      "\t batch_interrupt_received: False\n",
      "\t best_dev_cost: 1.64356279373\n",
      "\t epoch_interrupt_received: False\n",
      "\t epoch_started: False\n",
      "\t epochs_done: 8\n",
      "\t iterations_done: 3392\n",
      "\t received_first_batch: True\n",
      "\t resumed_from: None\n",
      "\t training_started: True\n",
      "Log records from the iteration 3392:\n",
      "\t dev_cost: 1.63686800003\n",
      "\t time_read_data_this_epoch: 0.0878207683563\n",
      "\t time_read_data_total: 0.701081991196\n",
      "\t time_train_this_epoch: 20.6956219673\n",
      "\t time_train_total: 165.949282408\n",
      "\t tra_cost: 1.46647882462\n",
      "\n",
      "\n",
      "-------------------------------------------------------------------------------\n",
      "AFTER ANOTHER EPOCH\n",
      "-------------------------------------------------------------------------------\n",
      "Training status:\n",
      "\t batch_interrupt_received: False\n",
      "\t best_dev_cost: 1.63686800003\n",
      "\t epoch_interrupt_received: False\n",
      "\t epoch_started: False\n",
      "\t epochs_done: 9\n",
      "\t iterations_done: 3816\n",
      "\t received_first_batch: True\n",
      "\t resumed_from: None\n",
      "\t training_started: True\n",
      "Log records from the iteration 3816:\n",
      "\t dev_cost: 1.63715410233\n",
      "\t time_read_data_this_epoch: 0.090137720108\n",
      "\t time_read_data_total: 0.791219711304\n",
      "\t time_train_this_epoch: 20.6805746555\n",
      "\t time_train_total: 186.629857063\n",
      "\t tra_cost: 1.40783798695\n",
      "\n",
      "\n",
      "-------------------------------------------------------------------------------\n",
      "AFTER ANOTHER EPOCH\n",
      "-------------------------------------------------------------------------------\n",
      "Training status:\n",
      "\t batch_interrupt_received: False\n",
      "\t best_dev_cost: 1.63686800003\n",
      "\t epoch_interrupt_received: False\n",
      "\t epoch_started: False\n",
      "\t epochs_done: 10\n",
      "\t iterations_done: 4240\n",
      "\t received_first_batch: True\n",
      "\t resumed_from: None\n",
      "\t training_started: True\n",
      "Log records from the iteration 4240:\n",
      "\t dev_cost: 1.62083685398\n",
      "\t time_read_data_this_epoch: 0.0868983268738\n",
      "\t time_read_data_total: 0.878118038177\n",
      "\t time_train_this_epoch: 20.6743271351\n",
      "\t time_train_total: 207.304184198\n",
      "\t tra_cost: 1.41779577732\n",
      "\n",
      "\n",
      "-------------------------------------------------------------------------------\n",
      "TRAINING HAS BEEN FINISHED:\n",
      "-------------------------------------------------------------------------------\n",
      "Training status:\n",
      "\t batch_interrupt_received: False\n",
      "\t best_dev_cost: 1.62083685398\n",
      "\t epoch_interrupt_received: False\n",
      "\t epoch_started: False\n",
      "\t epochs_done: 10\n",
      "\t iterations_done: 4240\n",
      "\t received_first_batch: True\n",
      "\t resumed_from: None\n",
      "\t training_started: True\n",
      "Log records from the iteration 4240:\n",
      "\t dev_cost: 1.62083685398\n",
      "\t dev_cost_best_so_far: True\n",
      "\t saved_to: ('best_model.pkl',)\n",
      "\t time_read_data_this_epoch: 0.0868983268738\n",
      "\t time_read_data_total: 0.878118038177\n",
      "\t time_train_this_epoch: 20.6743271351\n",
      "\t time_train_total: 207.304184198\n",
      "\t tra_cost: 1.41779577732\n",
      "\t training_finish_requested: True\n",
      "\t training_finished: True\n",
      "\n"
     ]
    }
   ],
   "source": [
    "main_loop = MainLoop(data_stream=train_stream, algorithm=algorithm,\n",
    "                     model=Model(cost), extensions=extensions)\n",
    "main_loop.run()"
   ]
  },
  {
   "cell_type": "code",
   "execution_count": 20,
   "metadata": {
    "collapsed": false
   },
   "outputs": [
    {
     "name": "stderr",
     "output_type": "stream",
     "text": [
      "Section                                  Time     % of total\n",
      "------------------------------------------------------------\n",
      "Before training                          0.00          0.00%\n",
      "  TrainingDataMonitoring                 0.00          0.00%\n",
      "  DataStreamMonitoring                   0.00          0.00%\n",
      "  Timing                                 0.00          0.00%\n",
      "  Printing                               0.00          0.00%\n",
      "  FinishAfter                            0.00          0.00%\n",
      "  TrackTheBest                           0.00          0.00%\n",
      "  Checkpoint                             0.00          0.00%\n",
      "  Plot                                   0.00          0.00%\n",
      "  Other                                  0.00          0.00%\n",
      "Initialization                          15.43          5.90%\n",
      "Training                               245.98         94.09%\n",
      "  Before epoch                           0.26          0.10%\n",
      "    TrainingDataMonitoring               0.00          0.00%\n",
      "    DataStreamMonitoring                 0.23          0.09%\n",
      "    Timing                               0.00          0.00%\n",
      "    Printing                             0.00          0.00%\n",
      "    FinishAfter                          0.00          0.00%\n",
      "    TrackTheBest                         0.00          0.00%\n",
      "    Checkpoint                           0.00          0.00%\n",
      "    Plot                                 0.02          0.01%\n",
      "    Other                                0.00          0.00%\n",
      "  Epoch                                210.94         80.69%\n",
      "    Read data                            0.88          0.34%\n",
      "    Before batch                         0.76          0.29%\n",
      "      TrainingDataMonitoring             0.11          0.04%\n",
      "      DataStreamMonitoring               0.07          0.03%\n",
      "      Timing                             0.07          0.03%\n",
      "      Printing                           0.15          0.06%\n",
      "      FinishAfter                        0.04          0.01%\n",
      "      TrackTheBest                       0.04          0.01%\n",
      "      Checkpoint                         0.04          0.01%\n",
      "      Plot                               0.12          0.05%\n",
      "      Other                              0.13          0.05%\n",
      "    Train                              207.30         79.30%\n",
      "    After batch                          1.83          0.70%\n",
      "      TrainingDataMonitoring             1.15          0.44%\n",
      "      DataStreamMonitoring               0.07          0.03%\n",
      "      Timing                             0.06          0.02%\n",
      "      Printing                           0.15          0.06%\n",
      "      FinishAfter                        0.04          0.01%\n",
      "      TrackTheBest                       0.04          0.01%\n",
      "      Checkpoint                         0.04          0.01%\n",
      "      Plot                               0.14          0.05%\n",
      "      Other                              0.16          0.06%\n",
      "    Other                                0.17          0.06%\n",
      "  After epoch                           34.75         13.29%\n",
      "    TrainingDataMonitoring               0.00          0.00%\n",
      "    DataStreamMonitoring                 2.20          0.84%\n",
      "    Timing                               0.00          0.00%\n",
      "    Printing                             0.01          0.00%\n",
      "    FinishAfter                          0.00          0.00%\n",
      "    TrackTheBest                         0.00          0.00%\n",
      "    Checkpoint                          32.53         12.45%\n",
      "    Plot                                 0.00          0.00%\n",
      "    Other                                0.00          0.00%\n",
      "  Other                                  0.03          0.01%\n",
      "After training                           0.02          0.01%\n",
      "  TrainingDataMonitoring                 0.00          0.00%\n",
      "  DataStreamMonitoring                   0.00          0.00%\n",
      "  Timing                                 0.00          0.00%\n",
      "  Printing                               0.02          0.01%\n",
      "  FinishAfter                            0.00          0.00%\n",
      "  TrackTheBest                           0.00          0.00%\n",
      "  Checkpoint                             0.00          0.00%\n",
      "  Plot                                   0.00          0.00%\n",
      "  Other                                  0.00          0.00%\n"
     ]
    }
   ],
   "source": [
    "main_loop.profile.report()"
   ]
  },
  {
   "cell_type": "markdown",
   "metadata": {},
   "source": [
    "# Generating text\n",
    "Hopefully, Our model is now good to predict the next character given a sequence. Thus, we can use it to generate text by feed the model with its own output iterativelly. We first define a theano function, to propagate the input and get hidden activations as well as the probability distribution of the next element in the sequence:"
   ]
  },
  {
   "cell_type": "code",
   "execution_count": 21,
   "metadata": {
    "collapsed": false
   },
   "outputs": [],
   "source": [
    "activations = VariableFilter(theano_name_regex='gru._apply_states')(main_loop.model.variables)\n",
    "#take activations of last element\n",
    "activations = [act[-1].flatten() for act in activations]\n",
    "initial_states = VariableFilter(roles=[roles.INITIAL_STATE])(main_loop.model.parameters)[::-1]\n",
    "states_as_params = [tensor.vector(dtype=initial.dtype) for initial in initial_states]\n",
    "zip(initial_states, states_as_params)\n",
    "#Get prob. distribution of the last element in the last seq of the batch\n",
    "fprop = theano.function([x] + states_as_params, activations + [y_hat[-1, -1, :]], givens=zip(initial_states, states_as_params))"
   ]
  },
  {
   "cell_type": "code",
   "execution_count": 22,
   "metadata": {
    "collapsed": false
   },
   "outputs": [],
   "source": [
    "def sample(x_curr, states_values, fprop, temperature=1.0):\n",
    "    '''\n",
    "    Propagate x_curr sequence and sample next element according to\n",
    "    temperature sampling.\n",
    "    Return: sampled element and a list of the hidden activations produced by fprop.\n",
    "    '''\n",
    "    outvars = fprop(x_curr, *states_values)\n",
    "    activations = outvars[:-1]\n",
    "    probs = outvars[-1].astype('float64')\n",
    "\n",
    "    if numpy.random.binomial(1, temperature) == 1:\n",
    "        probs = probs / probs.sum()\n",
    "        sample = numpy.random.multinomial(1, probs).nonzero()[0][0]\n",
    "    else:\n",
    "        sample = probs.argmax()\n",
    "\n",
    "    return sample, activations"
   ]
  },
  {
   "cell_type": "markdown",
   "metadata": {},
   "source": [
    "Set the initial characters or pick the first one at random. Finally we can sample:"
   ]
  },
  {
   "cell_type": "code",
   "execution_count": null,
   "metadata": {
    "collapsed": false
   },
   "outputs": [
    {
     "name": "stdout",
     "output_type": "stream",
     "text": [
      "Starting sampling\n",
      "cry, and the maid\n",
      "Than the since commit the see the stot against tune our state of the still man\n",
      "To a subject the maid together with a grow unto the father\n",
      "And the sun the state of the sweatent unto the princess.\n",
      "\n",
      "LUCIO:\n",
      "Go towardness so longing liberwer be so news,\n",
      "Do not to the world be which the sun and the state of the Earl of Marcius.\n",
      "The state his parting to this life of this\n",
      "Maric of some stay the king of death,\n",
      "And not the state content the state of the son of Boling beain:\n",
      "And tell the father will door command of igers and my sons and my speech\n",
      "To speak to the sense two shall play the king of the son,\n",
      "For was to the common news.\n",
      "\n",
      "DUKE VINCENTIO:\n",
      "The walk of the sweet some since me to''d the res\n",
      "Shobe to bed the sun the soldiers of the swift the king.\n",
      "\n",
      "QUEEN MARGARET:\n",
      "And the suns of what thy brook of the air to be so long\n",
      "Lord Marcius Romeo wilt thou we shall be so long of wakes be stones\n",
      "The seen the oll gain.\n",
      "\n",
      "LARTwen'd the shame; but the sons and my soul lies and parting.\n",
      "Lot not be so long to the stop on thee to the\n",
      "pardon on my son: and I will be how I will bear the state of the sweet\n",
      "Proefs to her sons and join'd we got in the state and said\n",
      "That he was a cold the sun the laid to the stars;\n",
      "And that the place "
     ]
    }
   ],
   "source": [
    "primetext = ix_to_char[numpy.random.randint(vocab_size)]\n",
    "#primetext = 'VICEN'\n",
    "primetext = ''.join([ch for ch in primetext if ch in char_to_ix.keys()])\n",
    "    \n",
    "x_curr = numpy.expand_dims(\n",
    "    numpy.array([char_to_ix[ch] for ch in primetext], dtype='uint8'), axis=1)\n",
    "length = 5000\n",
    "temperature = 0.4\n",
    "states_values = [initial.get_value() for initial in initial_states]\n",
    "sys.stdout.write('Starting sampling\\n' + primetext)\n",
    "for _ in range(length):\n",
    "    idx, states_values = sample(x_curr, states_values, fprop, temperature)\n",
    "    sys.stdout.write(ix_to_char[idx])\n",
    "    x_curr = [[idx]]\n",
    "\n",
    "sys.stdout.write('\\n')"
   ]
  },
  {
   "cell_type": "markdown",
   "metadata": {},
   "source": [
    "### And that concludes the tutorial...\n",
    "<blockquote class=\"twitter-video\" lang=\"en\"><p lang=\"en\" dir=\"ltr\">… and that concludes Machine Learning 101. Now, go forth and apply what you&#39;ve learned to real data! <a href=\"http://t.co/D6wSKgdjeM\">pic.twitter.com/D6wSKgdjeM</a></p>&mdash; ML Hipster (@ML_Hipster) <a href=\"https://twitter.com/ML_Hipster/status/633954383542128640\">August 19, 2015</a></blockquote>\n",
    "<script async src=\"//platform.twitter.com/widgets.js\" charset=\"utf-8\"></script>\n",
    "<img src=\"http://i.imgur.com/ZfkhOt4.png\" style=\"max-width:100%; width: 60%; max-width: none; float:left;\"/><img src=\"https://pbs.twimg.com/media/CPhVYYbUkAA-m6D.jpg:small\"/>\n"
   ]
  }
 ],
 "metadata": {
  "kernelspec": {
   "display_name": "Python 2",
   "language": "python",
   "name": "python2"
  },
  "language_info": {
   "codemirror_mode": {
    "name": "ipython",
    "version": 2
   },
   "file_extension": ".py",
   "mimetype": "text/x-python",
   "name": "python",
   "nbconvert_exporter": "python",
   "pygments_lexer": "ipython2",
   "version": "2.7.10"
  }
 },
 "nbformat": 4,
 "nbformat_minor": 0
}
